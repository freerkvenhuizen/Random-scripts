{
 "cells": [
  {
   "cell_type": "code",
   "execution_count": 1,
   "metadata": {},
   "outputs": [
    {
     "name": "stderr",
     "output_type": "stream",
     "text": [
      "Using Theano backend.\n"
     ]
    }
   ],
   "source": [
    "%matplotlib inline\n",
    "import matplotlib.pyplot as plt\n",
    "from pylab import *\n",
    "from IPython.display import clear_output\n",
    "import pandas as pd\n",
    "import seaborn as sns\n",
    "import numpy as np\n",
    "import string\n",
    "# keras\n",
    "from keras.preprocessing.text import Tokenizer\n",
    "from keras.preprocessing.sequence import pad_sequences\n",
    "from keras import Sequential\n",
    "from keras.layers import Embedding, Conv1D, MaxPooling1D, Dropout, Dense, Flatten\n",
    "# custom code\n",
    "from custom_classes.transaction_encoding import *\n",
    "from custom_classes.utils import *\n",
    "from custom_classes.custom_keras import *\n",
    "\n"
   ]
  },
  {
   "cell_type": "code",
   "execution_count": 2,
   "metadata": {},
   "outputs": [],
   "source": [
    "prefix = 'neuralnet_sample.'\n",
    "\n",
    "\n",
    "df_transactions = pd.read_csv('transaction_data/query-hive-125642.csv',\n",
    "                              dtype={prefix + 'acct_id': str,\n",
    "                                     prefix + 'bookg_amt_nmrc': float,\n",
    "                                     prefix + 'bookg_cdt_dbt_ind': str,\n",
    "                                     prefix + 'bookg_dt_tm_cet': str,\n",
    "                                     prefix + 'ctpty_acct_id_bban' : str,\n",
    "                                     prefix + 'ctpty_acct_id_iban' : str,\n",
    "                                     prefix + 'ctpty_adr_line1' : str,\n",
    "                                     prefix + 'ctpty_adr_line2' : str,\n",
    "                                     prefix + 'ctpty_nm_accrd_to_bk' : str,\n",
    "                                     prefix + 'ctpty_nm_accrd_to_orgtr' : str,\n",
    "                                     prefix + 'dtld_tx_tp' : str,\n",
    "                                     prefix + 'tx_tp' : str,\n",
    "                                     prefix + 'lcl_instrm_cd' : str,\n",
    "                                     prefix + 'rmt_inf_ustrd1' : str,\n",
    "                                     prefix + 'rmt_inf_ustrd2' : str,\n",
    "                                     prefix + 'bea' : str,\n",
    "                                     prefix + 'ruleid' : str,\n",
    "                                     prefix + 'category' : str,\n",
    "                                     prefix + 'subcategory' : str}\n",
    "                             )\n",
    "\n",
    "df_transactions.columns = ['acct_id',\n",
    "                           'bookg_amt_nmrc',\n",
    "                           'bookg_cdt_dbt_ind',\n",
    "                           'bookg_dt_tm_cet',\n",
    "                           'ctpty_acct_id_bban',\n",
    "                           'ctpty_acct_id_iban',\n",
    "                           'ctpty_adr_line1',\n",
    "                           'ctpty_adr_line2',\n",
    "                           'ctpty_nm_accrd_to_bk',\n",
    "                           'ctpty_nm_accrd_to_orgtr',\n",
    "                           'dtld_tx_tp',\n",
    "                           'tx_tp',\n",
    "                           'lcl_instrm_cd',\n",
    "                           'rmt_inf_ustrd1',\n",
    "                           'rmt_inf_ustrd2',\n",
    "                           'bea',\n",
    "                           'ruleid',\n",
    "                           'category',\n",
    "                           'subcategory']"
   ]
  },
  {
   "cell_type": "code",
   "execution_count": 3,
   "metadata": {},
   "outputs": [],
   "source": [
    "for column in df_transactions.columns:\n",
    "    df_transactions.loc[df_transactions[column].isnull(), column] = ''  "
   ]
  },
  {
   "cell_type": "code",
   "execution_count": 4,
   "metadata": {},
   "outputs": [
    {
     "data": {
      "text/plain": [
       "array(['Bankzaken en Verzekeringen', 'Telecom', 'Vrije Tijd',\n",
       "       'Overige inkomsten', 'Vervoer', 'Huishouden', 'Huis en inrichting',\n",
       "       'Gezondheid', 'Uitkeringen', 'Wonen en Inrichting',\n",
       "       'Medische kosten', 'Loon', 'Contributies en abonnementen',\n",
       "       'Kleding', 'Recreatie en vrije tijd', 'Verzekeringen en geldzaken',\n",
       "       'Gas, licht en water', 'Heffingen', 'Overige uitgaven', 'Kinderen',\n",
       "       'Woonlasten', 'Sparen', 'Studiekosten', ''], dtype=object)"
      ]
     },
     "execution_count": 4,
     "metadata": {},
     "output_type": "execute_result"
    }
   ],
   "source": [
    "df_transactions['category'].unique()"
   ]
  },
  {
   "cell_type": "markdown",
   "metadata": {},
   "source": [
    "gezondheid =?= medische kosten\n",
    "\n",
    "bankzaken en verzekeringen =?= verzekeringen en geldzaken\n",
    "\n",
    "recreatie en vrije tijd =?= vrije tijd\n",
    "\n",
    "wonen en inrichting =?= huis en inrichting\n"
   ]
  },
  {
   "cell_type": "code",
   "execution_count": 5,
   "metadata": {},
   "outputs": [
    {
     "data": {
      "text/plain": [
       "array(['Verzekeringen en geldzaken', 'Telecom', 'Vrije Tijd',\n",
       "       'Overige inkomsten', 'Vervoer', 'Huishouden', 'Wonen en Inrichting',\n",
       "       'Gezondheid', 'Uitkeringen', 'Loon', 'Contributies en abonnementen',\n",
       "       'Kleding', 'Gas, licht en water', 'Heffingen', 'Overige uitgaven',\n",
       "       'Kinderen', 'Woonlasten', 'Sparen', 'Studiekosten', ''], dtype=object)"
      ]
     },
     "execution_count": 5,
     "metadata": {},
     "output_type": "execute_result"
    }
   ],
   "source": [
    "# combine duplicate transactions\n",
    "df_transactions.loc[df_transactions['category'] == 'Medische kosten', 'category'] = 'Gezondheid'\n",
    "df_transactions.loc[df_transactions['category'] == 'Bankzaken en Verzekeringen', 'category'] = 'Verzekeringen en geldzaken'\n",
    "df_transactions.loc[df_transactions['category'] == 'Recreatie en vrije tijd', 'category'] = 'Vrije Tijd'\n",
    "df_transactions.loc[df_transactions['category'] == 'Huis en inrichting', 'category'] = 'Wonen en Inrichting'\n",
    "\n",
    "df_transactions['category'].unique()"
   ]
  },
  {
   "cell_type": "code",
   "execution_count": 6,
   "metadata": {},
   "outputs": [],
   "source": [
    "#remove empty labels\n",
    "#df_transactions = df_transactions.query('category != \\'\\'')\n",
    "\n",
    "df_transactions = df_transactions[df_transactions['category'] !='']\n",
    "#create integer label category\n",
    "for i, category in enumerate(df_transactions['category'].unique()):\n",
    "    df_transactions.loc[df_transactions['category'] == category, 'label'] = int(i+1)"
   ]
  },
  {
   "cell_type": "code",
   "execution_count": 7,
   "metadata": {},
   "outputs": [
    {
     "name": "stdout",
     "output_type": "stream",
     "text": [
      "79445\n"
     ]
    }
   ],
   "source": [
    "#external_dict = '/home/user/160/roularta-160.txt'\n",
    "#external_dict = '/home/user/large_dict_160/combined-160.txt'\n",
    "external_dict = None\n",
    "\n",
    "# create the dictionary based on the availbale transaction data, select specific columns\n",
    "word_tokenizer = CreateWordTokenizer(df_transactions, ['rmt_inf_ustrd1',\n",
    "                                                       'rmt_inf_ustrd2',\n",
    "                                                       'ctpty_nm_accrd_to_orgtr',\n",
    "                                                       'ctpty_nm_accrd_to_bk',\n",
    "                                                       'dtld_tx_tp', \n",
    "                                                       'tx_tp',\n",
    "                                                       'lcl_instrm_cd',\n",
    "                                                       'category',\n",
    "                                                       'subcategory'\n",
    "                                                      ], external_dict_path = external_dict)\n",
    "transaction_converter = TransactionConverter(word_tokenizer)\n",
    "\n",
    "#included columns to be extracted in sample, the encoding type, and maximum number of words/chars\n",
    "included_columns = [['bookg_cdt_dbt_ind','word', 1],\n",
    "                    ['ctpty_acct_id_bban', 'char', 20],\n",
    "                    ['ctpty_acct_id_iban', 'char', 20],\n",
    "                    ['ctpty_nm_accrd_to_bk', 'word', 10],\n",
    "                    ['ctpty_nm_accrd_to_orgtr', 'word', 10],\n",
    "                    ['dtld_tx_tp', 'word', 1],\n",
    "                    ['tx_tp', 'word', 1],\n",
    "                    ['lcl_instrm_cd', 'word', 1],\n",
    "                    ['rmt_inf_ustrd1', 'word',30],\n",
    "                    ['rmt_inf_ustrd2', 'word',30],\n",
    "                    ['category', 'label', 1],\n",
    "                    ['subcategory', 'label', 1],\n",
    "                    ['label', 'label', 1]]"
   ]
  },
  {
   "cell_type": "code",
   "execution_count": 8,
   "metadata": {},
   "outputs": [
    {
     "name": "stdout",
     "output_type": "stream",
     "text": [
      "_________________________________________________________________\n",
      "Layer (type)                 Output Shape              Param #   \n",
      "=================================================================\n",
      "embedding_1 (Embedding)      (None, 84, 22)            1747812   \n",
      "_________________________________________________________________\n",
      "conv1d_1 (Conv1D)            (None, 80, 256)           28416     \n",
      "_________________________________________________________________\n",
      "dropout_1 (Dropout)          (None, 80, 256)           0         \n",
      "_________________________________________________________________\n",
      "max_pooling1d_1 (MaxPooling1 (None, 40, 256)           0         \n",
      "_________________________________________________________________\n",
      "conv1d_2 (Conv1D)            (None, 36, 256)           327936    \n",
      "_________________________________________________________________\n",
      "dropout_2 (Dropout)          (None, 36, 256)           0         \n",
      "_________________________________________________________________\n",
      "max_pooling1d_2 (MaxPooling1 (None, 18, 256)           0         \n",
      "_________________________________________________________________\n",
      "conv1d_3 (Conv1D)            (None, 14, 256)           327936    \n",
      "_________________________________________________________________\n",
      "dropout_3 (Dropout)          (None, 14, 256)           0         \n",
      "_________________________________________________________________\n",
      "max_pooling1d_3 (MaxPooling1 (None, 7, 256)            0         \n",
      "_________________________________________________________________\n",
      "flatten_1 (Flatten)          (None, 1792)              0         \n",
      "_________________________________________________________________\n",
      "dense_1 (Dense)              (None, 128)               229504    \n",
      "_________________________________________________________________\n",
      "dense_2 (Dense)              (None, 19)                2451      \n",
      "=================================================================\n",
      "Total params: 2,664,055\n",
      "Trainable params: 2,664,055\n",
      "Non-trainable params: 0\n",
      "_________________________________________________________________\n",
      "None\n"
     ]
    }
   ],
   "source": [
    "# define the model\n",
    "\n",
    "MAX_SEQUENCE_LENGTH = 84\n",
    "num_classes = int(max(df_transactions['label']))\n",
    "\n",
    "model = Sequential()\n",
    "model.add(Embedding(len(word_tokenizer.tokenizer.word_counts)+1, 22, input_length=MAX_SEQUENCE_LENGTH))\n",
    "model.add(Conv1D(256, 5, activation='relu'))\n",
    "model.add(Dropout(0.5))\n",
    "model.add(MaxPooling1D(2))\n",
    "model.add(Conv1D(256, 5, activation='relu'))\n",
    "model.add(Dropout(0.5))\n",
    "model.add(MaxPooling1D(2))\n",
    "model.add(Conv1D(256, 5, activation='relu'))\n",
    "model.add(Dropout(0.5))\n",
    "model.add(MaxPooling1D(2))\n",
    "model.add(Flatten())\n",
    "model.add(Dense(128, activation='relu'))\n",
    "model.add(Dense(num_classes, activation='softmax'))\n",
    "# compile the model\n",
    "model.compile(optimizer='adam', loss='categorical_crossentropy', metrics=['acc'])\n",
    "# summarize the model\n",
    "print(model.summary())"
   ]
  },
  {
   "cell_type": "code",
   "execution_count": 9,
   "metadata": {},
   "outputs": [
    {
     "name": "stdout",
     "output_type": "stream",
     "text": [
      "Amount of training transactions 99987\n",
      "Amount of validation transactions 9998\n",
      "Amount of test transactions 29997\n"
     ]
    }
   ],
   "source": [
    "# split data in train/validation/test\n",
    "datasplit_boundaries = [0.6, 0.7] # [0.6, 0.7] means the first 60% is train,\n",
    "                                  #the next 10% is validation and the remaining 30 % is test data\n",
    "\n",
    "    \n",
    "df_transactions = df_transactions.sample(frac=1).reset_index(drop=True)    \n",
    "    \n",
    "split_train = int(datasplit_boundaries[0] * df_transactions.shape[0])\n",
    "split_validation = int(datasplit_boundaries[1] * df_transactions.shape[0])\n",
    "    \n",
    "    \n",
    "df_transactions_TRAIN, df_transactions_VALIDATION, df_transactions_TEST = np.split(df_transactions,\n",
    "                                                                                   [split_train,\n",
    "                                                                                    split_validation],\n",
    "                                                                                   axis = 0)  \n",
    "\n",
    "df_transactions_TRAIN = df_transactions #overfit on training data!!!\n",
    "\n",
    "\n",
    "print 'Amount of training transactions ' + str(df_transactions_TRAIN.shape[0])\n",
    "print 'Amount of validation transactions ' + str(df_transactions_VALIDATION.shape[0])\n",
    "print 'Amount of test transactions ' + str(df_transactions_TEST.shape[0])"
   ]
  },
  {
   "cell_type": "code",
   "execution_count": 10,
   "metadata": {},
   "outputs": [],
   "source": [
    "transaction_batch_generator_TRAIN = TransactionBatchGenerator(df_transactions_TRAIN,\n",
    "                                                              transaction_converter,\n",
    "                                                              included_columns)\n",
    "\n",
    "transaction_batch_generator_VALIDATION = TransactionBatchGenerator(df_transactions_VALIDATION,\n",
    "                                                              transaction_converter,\n",
    "                                                              included_columns)\n",
    "transaction_batch_generator_TEST = TransactionBatchGenerator(df_transactions_TEST,\n",
    "                                                              transaction_converter,\n",
    "                                                              included_columns)\n"
   ]
  },
  {
   "cell_type": "code",
   "execution_count": null,
   "metadata": {},
   "outputs": [
    {
     "name": "stdout",
     "output_type": "stream",
     "text": [
      "Epoch 0 of 200\n",
      "Batch 33 of 99\n",
      "Last accuracy on validation set: 0.0278064131737\n",
      "Best accuracy on validation set: 0.0278064131737\n"
     ]
    },
    {
     "data": {
      "image/png": "[encoded data removed]",
      "text/plain": [
       "<Figure size 1296x576 with 2 Axes>"
      ]
     },
     "metadata": {},
     "output_type": "display_data"
    }
   ],
   "source": [
    "NUM_EPOCHS = 200\n",
    "BATCH_SIZE = 1000\n",
    "\n",
    "plt.rcParams['figure.figsize'] = (18, 8)\n",
    "\n",
    "val_accuracy_total = []\n",
    "val_loss_total = []\n",
    "train_loss_total = []\n",
    "\n",
    "for j, epoch in enumerate(range(NUM_EPOCHS)):\n",
    "    # create generation objects\n",
    "    \n",
    "    transaction_batch_generator_TRAIN.shuffle_data()\n",
    "    \n",
    "    training_batches = transaction_batch_generator_TRAIN.get_transactions_as_generator_object(BATCH_SIZE)\n",
    "    validation_batches = transaction_batch_generator_VALIDATION.get_transactions_as_generator_object(BATCH_SIZE)\n",
    "    \n",
    "    \n",
    "    loss_accum = []\n",
    "    accuracy_accum = []\n",
    "    for batch in validation_batches:\n",
    "        X = np.concatenate([batch['ctpty_nm_accrd_to_orgtr'],\n",
    "                            batch['ctpty_nm_accrd_to_bk'], \n",
    "                            batch['dtld_tx_tp'],\n",
    "                            batch['tx_tp'],\n",
    "                            batch['lcl_instrm_cd'],\n",
    "                            batch['bookg_cdt_dbt_ind'],\n",
    "                            batch['rmt_inf_ustrd1'],\n",
    "                            batch['rmt_inf_ustrd2']], axis = 1)\n",
    "        y = convert_to_onehot(batch['label'], num_classes)\n",
    "        \n",
    "        loss, acc = model.evaluate(X, y, batch_size=BATCH_SIZE, verbose=0)\n",
    "        loss_accum.append(loss)\n",
    "        accuracy_accum.append(acc)\n",
    "    val_loss_total.append(np.mean(loss_accum))\n",
    "    val_accuracy_total.append(mean(accuracy_accum))\n",
    "\n",
    "\n",
    "    for i, batch in enumerate(training_batches): \n",
    "        clear_output()\n",
    "        print \"Epoch \" + str(j) + \" of \" + str(NUM_EPOCHS)\n",
    "        print \"Batch \" + str(i) + \" of \" + str(transaction_batch_generator_TRAIN.num_batches)\n",
    "        print \"Last accuracy on validation set: \" + str(val_accuracy_total[-1])\n",
    "        print \"Best accuracy on validation set: \" + str(np.max(val_accuracy_total))\n",
    "        plot_learning_curve(train_loss_total,\n",
    "                            val_loss_total,\n",
    "                            val_accuracy_total,\n",
    "                            transaction_batch_generator_TRAIN.num_batches)\n",
    "        \n",
    "        X = np.concatenate([batch['ctpty_nm_accrd_to_orgtr'],\n",
    "                            batch['ctpty_nm_accrd_to_bk'], \n",
    "                            batch['dtld_tx_tp'],\n",
    "                            batch['tx_tp'],\n",
    "                            batch['lcl_instrm_cd'],\n",
    "                            batch['bookg_cdt_dbt_ind'],\n",
    "                            batch['rmt_inf_ustrd1'],\n",
    "                            batch['rmt_inf_ustrd2']], axis = 1)\n",
    "        y = convert_to_onehot(batch['label'], num_classes)\n",
    "        \n",
    "        \n",
    "        loss, acc = model.train_on_batch(X, y)\n",
    "        train_loss_total.append(loss)"
   ]
  },
  {
   "cell_type": "code",
   "execution_count": null,
   "metadata": {},
   "outputs": [],
   "source": [
    "loss_total = []\n",
    "acc_total = []\n",
    "\n",
    "test_batches = transaction_batch_generator_TEST.get_transactions_as_generator_object(BATCH_SIZE)\n",
    "\n",
    "for batch in test_batches:\n",
    "    X = np.concatenate([batch['ctpty_nm_accrd_to_orgtr'],\n",
    "                        batch['ctpty_nm_accrd_to_bk'],\n",
    "                        batch['dtld_tx_tp'],\n",
    "                        batch['tx_tp'],\n",
    "                        batch['lcl_instrm_cd'],\n",
    "                        batch['bookg_cdt_dbt_ind'],\n",
    "                        batch['rmt_inf_ustrd1'],\n",
    "                        batch['rmt_inf_ustrd2']], axis = 1)\n",
    "    y = convert_to_onehot(batch['label'], num_classes)\n",
    "\n",
    "    loss, acc = model.evaluate(X, y, batch_size=BATCH_SIZE, verbose=0)\n",
    "    loss_total.append(loss)\n",
    "    acc_total.append(acc)\n",
    "print np.mean(loss_total)\n",
    "print np.mean(acc_total)\n"
   ]
  },
  {
   "cell_type": "code",
   "execution_count": null,
   "metadata": {
    "scrolled": false
   },
   "outputs": [],
   "source": [
    "for i,[l,c] in enumerate(zip(df_transactions['label'].unique(), df_transactions['category'].unique())):\n",
    "    print l,c\n",
    "    "
   ]
  },
  {
   "cell_type": "code",
   "execution_count": null,
   "metadata": {},
   "outputs": [],
   "source": []
  }
 ],
 "metadata": {
  "kernelspec": {
   "display_name": "Python 2",
   "language": "python",
   "name": "python2"
  },
  "language_info": {
   "codemirror_mode": {
    "name": "ipython",
    "version": 2
   },
   "file_extension": ".py",
   "mimetype": "text/x-python",
   "name": "python",
   "nbconvert_exporter": "python",
   "pygments_lexer": "ipython2",
   "version": "2.7.12"
  }
 },
 "nbformat": 4,
 "nbformat_minor": 2
}
